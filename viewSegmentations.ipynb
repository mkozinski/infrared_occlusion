{
 "cells": [
  {
   "cell_type": "code",
   "execution_count": null,
   "metadata": {},
   "outputs": [],
   "source": [
    "import cv2\n",
    "import IPython.display \n",
    "import importlib\n",
    "from skimage.io import imread\n",
    "import numpy as np\n",
    "import os\n",
    "import torch\n",
    "import sys\n",
    "import re\n",
    "\n",
    "def imshow(img):\n",
    "    _,ret = cv2.imencode('.jpg', img) \n",
    "    i = IPython.display.Image(data=ret)\n",
    "    IPython.display.display(i)\n",
    "    \n",
    "def showimgs(ims):\n",
    "    imshow(np.concatenate(ims,1)*255)"
   ]
  },
  {
   "cell_type": "code",
   "execution_count": null,
   "metadata": {},
   "outputs": [],
   "source": [
    "odir=\"log_v1/output_best_v1/\" # last_v1/\" #\n",
    "datadir=\"/\"\n",
    "exec(open(\"testFiles.txt\").read())\n",
    "\n",
    "def prepareimg(img):\n",
    "    maxv=6200.0\n",
    "    minv=5700.0\n",
    "    rang=maxv-minv\n",
    "    img=(img.astype(np.float)-minv)/rang\n",
    "    return img"
   ]
  },
  {
   "cell_type": "code",
   "execution_count": null,
   "metadata": {
    "scrolled": false
   },
   "outputs": [],
   "source": [
    "l=0\n",
    "for f in testFiles:\n",
    "    print(f[0])\n",
    "    bn=os.path.splitext(os.path.basename(f[0]))[0]\n",
    "    img=imread(os.path.join(datadir,f[0]),plugin='tifffile')\n",
    "    img=prepareimg(img.astype(np.float32))\n",
    "    imshow(img*255)\n",
    "    lbl=imread(os.path.join(datadir,f[1]))\n",
    "    imshow(lbl*255)\n",
    "    #pres=[]\n",
    "    #for odr in odirs:\n",
    "    #    pre=np.load(os.path.join(odr,oname+\".npy\"))\n",
    "    #    print(pre.shape)\n",
    "    #    pres.append(pre*255)\n",
    "    #showimgs(pres)\n",
    "    pre=np.load(os.path.join(odir,bn+\".npy\"))\n",
    "    imshow(pre*255)\n",
    "    l+=1\n",
    "    "
   ]
  },
  {
   "cell_type": "code",
   "execution_count": null,
   "metadata": {},
   "outputs": [],
   "source": []
  }
 ],
 "metadata": {
  "kernelspec": {
   "display_name": "Python 3",
   "language": "python",
   "name": "python3"
  },
  "language_info": {
   "codemirror_mode": {
    "name": "ipython",
    "version": 3
   },
   "file_extension": ".py",
   "mimetype": "text/x-python",
   "name": "python",
   "nbconvert_exporter": "python",
   "pygments_lexer": "ipython3",
   "version": "3.6.8"
  }
 },
 "nbformat": 4,
 "nbformat_minor": 4
}
